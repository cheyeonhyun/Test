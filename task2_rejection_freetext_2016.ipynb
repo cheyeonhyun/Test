{
 "cells": [
  {
   "cell_type": "code",
   "execution_count": 1,
   "metadata": {
    "collapsed": false
   },
   "outputs": [],
   "source": [
    "import numpy as np\n",
    "import pandas as pd\n",
    "import nltk\n",
    "from textblob import TextBlob\n",
    "\n",
    "df = pd.read_csv('rejection_query_filter2.csv', low_memory=False)"
   ]
  },
  {
   "cell_type": "code",
   "execution_count": 2,
   "metadata": {
    "collapsed": false
   },
   "outputs": [
    {
     "data": {
      "text/html": [
       "<div>\n",
       "<table border=\"1\" class=\"dataframe\">\n",
       "  <thead>\n",
       "    <tr style=\"text-align: right;\">\n",
       "      <th></th>\n",
       "      <th>﻿PayPal payment failed: Account ivanov.oro@gmail.com is restricted</th>\n",
       "      <th>0</th>\n",
       "      <th>1</th>\n",
       "    </tr>\n",
       "  </thead>\n",
       "  <tbody>\n",
       "    <tr>\n",
       "      <th>0</th>\n",
       "      <td>Beneficiary name incorrect</td>\n",
       "      <td>2</td>\n",
       "      <td>1</td>\n",
       "    </tr>\n",
       "    <tr>\n",
       "      <th>1</th>\n",
       "      <td>Invalid Bank code / Branch code combination</td>\n",
       "      <td>6</td>\n",
       "      <td>1</td>\n",
       "    </tr>\n",
       "    <tr>\n",
       "      <th>2</th>\n",
       "      <td>16,145,11818,,,91000012443093/\\r\\n88,COMPANY N...</td>\n",
       "      <td>6</td>\n",
       "      <td>1</td>\n",
       "    </tr>\n",
       "    <tr>\n",
       "      <th>3</th>\n",
       "      <td>16,145,185335,,,91000014238477/\\r\\n88,COMPANY ...</td>\n",
       "      <td>3</td>\n",
       "      <td>1</td>\n",
       "    </tr>\n",
       "    <tr>\n",
       "      <th>4</th>\n",
       "      <td>Payment was rejected due to invalid routing in...</td>\n",
       "      <td>6</td>\n",
       "      <td>1</td>\n",
       "    </tr>\n",
       "  </tbody>\n",
       "</table>\n",
       "</div>"
      ],
      "text/plain": [
       "  ﻿PayPal payment failed: Account ivanov.oro@gmail.com is restricted  0  1\n",
       "0                         Beneficiary name incorrect                  2  1\n",
       "1        Invalid Bank code / Branch code combination                  6  1\n",
       "2  16,145,11818,,,91000012443093/\\r\\n88,COMPANY N...                  6  1\n",
       "3  16,145,185335,,,91000014238477/\\r\\n88,COMPANY ...                  3  1\n",
       "4  Payment was rejected due to invalid routing in...                  6  1"
      ]
     },
     "execution_count": 2,
     "metadata": {},
     "output_type": "execute_result"
    }
   ],
   "source": [
    "df.head()"
   ]
  },
  {
   "cell_type": "code",
   "execution_count": 58,
   "metadata": {
    "collapsed": false
   },
   "outputs": [],
   "source": [
    "import string\n",
    "import random\n",
    "\n",
    "df.columns = ['Key', 'PaymentMethod', 'Count']\n",
    "df['Key'] = df['Key'].str.lower()\n",
    "# df.sort(['Count'], ascending= False)\n"
   ]
  },
  {
   "cell_type": "code",
   "execution_count": 4,
   "metadata": {
    "collapsed": false
   },
   "outputs": [],
   "source": [
    "# df.tail(12)\n"
   ]
  },
  {
   "cell_type": "code",
   "execution_count": 5,
   "metadata": {
    "collapsed": false
   },
   "outputs": [],
   "source": [
    "NoPM = {}\n",
    "PayPal = {}\n",
    "WireTransfer = {}\n",
    "Payoneer = {}\n",
    "ACH = {}\n",
    "Check = {}\n",
    "Cash = {}\n",
    "eCheck = {}\n",
    "HoldMyPayments = {}\n",
    "Custom = {}\n",
    "\n"
   ]
  },
  {
   "cell_type": "code",
   "execution_count": 6,
   "metadata": {
    "collapsed": false
   },
   "outputs": [],
   "source": [
    "sum_errors = df['Count'].sum(axis=0)\n"
   ]
  },
  {
   "cell_type": "code",
   "execution_count": 7,
   "metadata": {
    "collapsed": false
   },
   "outputs": [],
   "source": [
    "# we are going to check status_list such that\n",
    "def add_to_dict(the_dict, reason, count, row_text):\n",
    "    if reason in the_dict:\n",
    "        the_dict[reason][0].append(row_text)\n",
    "        the_dict[reason][1] += count\n",
    "    else:\n",
    "        the_dict[reason] = [[], 0]\n",
    "        the_dict[reason][0].append(row_text)\n",
    "        the_dict[reason][1] += count\n",
    "\n",
    "# NoPM = {}\n",
    "# PayPal = {}\n",
    "# Payoneer = {}\n",
    "# WireTransfer = {}\n",
    "# ACH = {}\n",
    "# Check = {}\n",
    "# Cash = {}\n",
    "# eCheck = {}\n",
    "# Custom = {}\n",
    "    \n",
    "for index, row in df.iterrows():\n",
    "    row_key = row['Key']\n",
    "    row_count = row['Count']\n",
    "    row_pm = row['PaymentMethod']\n",
    "    if row_pm == -1:\n",
    "        row_paymentMethod = NoPM\n",
    "    if row_pm == 0:\n",
    "        row_paymentMethod = PayPal\n",
    "    if row_pm == 1:\n",
    "        row_paymentMethod = Payoneer\n",
    "    if row_pm == 2:\n",
    "        row_paymentMethod = WireTransfer\n",
    "    if row_pm == 3:\n",
    "        row_paymentMethod = ACH\n",
    "    if row_pm == 4:\n",
    "        row_paymentMethod = Check\n",
    "    if row_pm == 5:\n",
    "        row_paymentMethod = Cash\n",
    "    if row_pm == 6:\n",
    "        row_paymentMethod = eCheck\n",
    "    if row_pm == 7:\n",
    "        row_paymentMethod == Custom\n",
    "    is_noun = lambda pos: pos[:2] == 'NN'\n",
    "    if pd.isnull(row_key):\n",
    "        continue\n",
    "    else:\n",
    "        row_key = ''.join([i for i in row_key if not i.isdigit()])\n",
    "        if 'routing code' in row_key or 'routing number' in row_key or 'aba' in row_key or 'routing information' in row_key:\n",
    "            add_to_dict(row_paymentMethod, 'routing_code', row_count, row_key)\n",
    "        elif row_pm == 0 and 'reject' in row_key:\n",
    "            add_to_dict(row_paymentMethod, 'paypal_rejected', row_count, row_key)\n",
    "        elif 'ifsc' in row_key:\n",
    "            add_to_dict(row_paymentMethod, 'ifsc', row_count, row_key)\n",
    "        elif 'swift code' in row_key or 'swift' in row_key:\n",
    "            add_to_dict(row_paymentMethod, 'swift_code', row_count, row_key)\n",
    "        elif ('check' in row_key or 'cheque' in row_key) and 'stop' in row_key:\n",
    "            add_to_dict(row_paymentMethod, 'check_stopped', row_count, row_key)\n",
    "        elif ('refund' in row_key or 'return' in row_key) and len(row_key) < 200:\n",
    "            add_to_dict(row_paymentMethod, 'refund_return', row_count, row_key)\n",
    "        elif 'iban' in row_key:\n",
    "              add_to_dict(row_paymentMethod, 'iban', row_count, row_key)\n",
    "        elif 'branch code' in row_key or 'bank branch' in row_key:\n",
    "            add_to_dict(row_paymentMethod, 'bank_code_branch_code', row_count, row_key)\n",
    "        elif 'not collect' in row_key or 'claim' in row_key:\n",
    "            add_to_dict(row_paymentMethod, 'not_collected', row_count, row_key)\n",
    "        elif 'address' in row_key or 'zip' in row_key:\n",
    "            add_to_dict(row_paymentMethod, 'address', row_count, row_key)\n",
    "        elif 'payment source' in row_key and 'no' in row_key:\n",
    "            add_to_dict(row_paymentMethod, 'no_payment_source', row_count, row_key)\n",
    "        elif 'not supported in' in row_key:\n",
    "            add_to_dict(row_paymentMethod, 'currency', row_count, row_key)\n",
    "        elif 'test' in row_key:\n",
    "            add_to_dict(row_paymentMethod, 'test', row_count, row_key)\n",
    "        elif 'mass' in row_key and 'pay' in row_key:\n",
    "            add_to_dict(row_paymentMethod, 'mass_pay', row_count, row_key)\n",
    "        elif 'no such account' in row_key:\n",
    "            add_to_dict(row_paymentMethod, 'no_such_account', row_count, row_key)\n",
    "        elif 'tipalti' in row_key and 'error' in row_key:\n",
    "            add_to_dict(row_paymentMethod, 'tipalti_error', row_count, row_key)\n",
    "        elif 'support review' in row_key:\n",
    "            add_to_dict(row_paymentMethod, 'support_review', row_count, row_key)\n",
    "        elif 'internal error' in row_key:\n",
    "            add_to_dict(row_paymentMethod, 'internal_error', row_count, row_key)\n",
    "        elif 'payee' in row_key and 'not exist' in row_key:\n",
    "            add_to_dict(row_paymentMethod, 'payee_not_exist', row_count, row_key)\n",
    "        else:\n",
    "            if 'reject' in row_key and 'payee' in row_key:\n",
    "                add_to_dict(row_paymentMethod, 'rejected_by_payee', row_count, row_key)\n",
    "#             tokenized = nltk.word_tokenize(row_key)\n",
    "#             nouns = [word for (word, pos) in nltk.pos_tag(tokenized) if is_noun(pos)] \n",
    "#             if 'check' in nouns or 'cheque' in nouns:\n",
    "#                 add_to_dict(row_paymentMethod, 'ifsc', row_count, row_key)\n",
    "            elif 'payer' in row_key and 'cancel' in row_key:\n",
    "                add_to_dict(row_paymentMethod, 'rejected_by_payer', row_count, row_key)\n",
    "            elif 'payer' in row_key and 'reject' in row_key:\n",
    "                add_to_dict(row_paymentMethod, 'rejected_by_payer', row_count, row_key)\n",
    "            elif 'payer' in row_key and 'recall' in row_key:\n",
    "                add_to_dict(row_paymentMethod, 'rejected_by_payer', row_count, row_key)\n",
    "#             elif 'recall' in row_key or 'reject' in row_key or 'cancel' in row_key:\n",
    "#                 add_to_dict(row_paymentMethod, 'rejected_general', row_count, row_key)\n",
    "            elif 'currency' in row_key:\n",
    "                add_to_dict(row_paymentMethod, 'currency', row_count, row_key)\n",
    "            elif 'bank code' in row_key:\n",
    "                add_to_dict(row_paymentMethod, 'bank_code_branch_code', row_count, row_key)\n",
    "            elif 'beneficiary' in row_key:\n",
    "                add_to_dict(row_paymentMethod, 'beneficiary', row_count, row_key)\n",
    "            elif 'phone number' not in row_key and ('bank account' in row_key and 'number' in row_key) or 'account number' in row_key:\n",
    "                add_to_dict(row_paymentMethod, 'account_number', row_count, row_key)\n",
    "            elif len(row_key)<200 and 'bank account' and 'name' in row_key or 'account name' in row_key:\n",
    "                add_to_dict(row_paymentMethod, 'account_name', row_count, row_key)\n",
    "            elif 'frozen' in row_key or 'closed' in row_key:\n",
    "                add_to_dict(row_paymentMethod, 'closed_frozen', row_count, row_key)\n",
    "            elif ('account' in row_key or 'bank account' in row_key) and len(row_key)<200:\n",
    "                add_to_dict(row_paymentMethod, 'account_other', row_count, row_key)\n",
    "            elif 'bank' in row_key and len(row_key)<200:\n",
    "                add_to_dict(row_paymentMethod, 'bank_details', row_count, row_key)\n",
    "            elif 'info' in row_key or 'document' in row_key:\n",
    "                add_to_dict(row_paymentMethod, 'lack_of_doc_info', row_count, row_key)\n",
    "            elif 'missing' in row_key:\n",
    "                add_to_dict(row_paymentMethod, 'lack_of_doc_info', row_count, row_key)\n",
    "#             elif 'valid' in row_key or 'correct' in row_key:\n",
    "#                 add_to_dict(row_paymentMethod, 'invalid', row_count, row_key)\n",
    "            else:\n",
    "                if len(row_key) > 200:\n",
    "                    add_to_dict(row_paymentMethod, 'not_classified_unreadable', row_count, row_key)\n",
    "                    \n",
    "                else:\n",
    "                    add_to_dict(row_paymentMethod, 'not_classified_readable', row_count, row_key)\n",
    "                    "
   ]
  },
  {
   "cell_type": "code",
   "execution_count": 8,
   "metadata": {
    "collapsed": true
   },
   "outputs": [],
   "source": [
    "result_df = pd.DataFrame(columns = ['PaymentMethod', 'Reason', 'Count', 'Percentage'])"
   ]
  },
  {
   "cell_type": "code",
   "execution_count": 9,
   "metadata": {
    "collapsed": false
   },
   "outputs": [],
   "source": [
    "result_df.columns = ['PaymentMethod', 'Reason', 'Count', 'Percentage']\n",
    "for key, value in NoPM.items():\n",
    "    temp_dict = [{'PaymentMethod': 'NoPM', 'Reason': key, 'Count':value[1],'Percentage': (value[1]/sum_errors)}]\n",
    "    result_df = result_df.append(temp_dict, ignore_index = True)\n",
    "    \n",
    "for key, value in PayPal.items():\n",
    "    temp_dict = [{'PaymentMethod': 'PayPal', 'Reason': key, 'Count':value[1],'Percentage': (value[1]/sum_errors)}]\n",
    "    result_df = result_df.append(temp_dict, ignore_index = True)\n",
    "    \n",
    "for key, value in Payoneer.items():\n",
    "    temp_dict = [{'PaymentMethod': 'Payoneer', 'Reason': key, 'Count':value[1],'Percentage': (value[1]/sum_errors)}]\n",
    "    result_df = result_df.append(temp_dict, ignore_index = True)\n",
    "    \n",
    "for key, value in WireTransfer.items():\n",
    "    temp_dict = [{'PaymentMethod': 'WireTransfer', 'Reason': key, 'Count':value[1],'Percentage': (value[1]/sum_errors)}]\n",
    "    result_df = result_df.append(temp_dict, ignore_index = True)\n",
    "    \n",
    "for key, value in ACH.items():\n",
    "    temp_dict = [{'PaymentMethod': 'ACH', 'Reason': key, 'Count':value[1],'Percentage': (value[1]/sum_errors)}]\n",
    "    result_df = result_df.append(temp_dict, ignore_index = True)\n",
    "    \n",
    "for key, value in Check.items():\n",
    "    temp_dict = [{'PaymentMethod': 'Check', 'Reason': key, 'Count':value[1],'Percentage': (value[1]/sum_errors)}]\n",
    "    result_df = result_df.append(temp_dict, ignore_index = True)\n",
    "    \n",
    "for key, value in Cash.items():\n",
    "    temp_dict = [{'PaymentMethod': 'Cash', 'Reason': key, 'Count':value[1],'Percentage': (value[1]/sum_errors)}]\n",
    "    result_df = result_df.append(temp_dict, ignore_index = True)\n",
    "    \n",
    "for key, value in eCheck.items():\n",
    "    temp_dict = [{'PaymentMethod': 'eCheck', 'Reason': key, 'Count':value[1],'Percentage': (value[1]/sum_errors)}]\n",
    "    result_df = result_df.append(temp_dict, ignore_index = True)\n",
    "    \n",
    "for key, value in Custom.items():\n",
    "    temp_dict = [{'PaymentMethod': 'Custom', 'Reason': key, 'Count':value[1],'Percentage': 100*(value[1]/sum_errors)}]\n",
    "    result_df = result_df.append(temp_dict, ignore_index = True)\n",
    "    "
   ]
  },
  {
   "cell_type": "code",
   "execution_count": 10,
   "metadata": {
    "collapsed": false
   },
   "outputs": [],
   "source": [
    "# for index, row in result_df.iterrows():\n",
    "#     if row['Percentage'] < 0.1:\n",
    "#         row_key = row['Reason']\n",
    "#         row_count = row['Count']\n",
    "#         row['PaymentMethod']['not_classified_readable'][0].append(row_key)\n",
    "#         row['PaymentMethod']['not_classified_readable'][1] += row_count\n",
    "#         row['PaymentMethod'].pop(row_key, None)"
   ]
  },
  {
   "cell_type": "code",
   "execution_count": 12,
   "metadata": {
    "collapsed": false
   },
   "outputs": [
    {
     "data": {
      "text/html": [
       "<div>\n",
       "<table border=\"1\" class=\"dataframe\">\n",
       "  <thead>\n",
       "    <tr style=\"text-align: right;\">\n",
       "      <th></th>\n",
       "      <th>PaymentMethod</th>\n",
       "      <th>Reason</th>\n",
       "      <th>Count</th>\n",
       "      <th>Percentage</th>\n",
       "    </tr>\n",
       "  </thead>\n",
       "  <tbody>\n",
       "    <tr>\n",
       "      <th>0</th>\n",
       "      <td>PayPal</td>\n",
       "      <td>not_classified_readable</td>\n",
       "      <td>5.0</td>\n",
       "      <td>0.000831</td>\n",
       "    </tr>\n",
       "    <tr>\n",
       "      <th>1</th>\n",
       "      <td>PayPal</td>\n",
       "      <td>paypal_rejected</td>\n",
       "      <td>1231.0</td>\n",
       "      <td>0.204519</td>\n",
       "    </tr>\n",
       "    <tr>\n",
       "      <th>2</th>\n",
       "      <td>PayPal</td>\n",
       "      <td>refund_return</td>\n",
       "      <td>14.0</td>\n",
       "      <td>0.002326</td>\n",
       "    </tr>\n",
       "    <tr>\n",
       "      <th>3</th>\n",
       "      <td>PayPal</td>\n",
       "      <td>account_other</td>\n",
       "      <td>8.0</td>\n",
       "      <td>0.001329</td>\n",
       "    </tr>\n",
       "    <tr>\n",
       "      <th>4</th>\n",
       "      <td>PayPal</td>\n",
       "      <td>mass_pay</td>\n",
       "      <td>986.0</td>\n",
       "      <td>0.163815</td>\n",
       "    </tr>\n",
       "  </tbody>\n",
       "</table>\n",
       "</div>"
      ],
      "text/plain": [
       "  PaymentMethod                   Reason   Count  Percentage\n",
       "0        PayPal  not_classified_readable     5.0    0.000831\n",
       "1        PayPal          paypal_rejected  1231.0    0.204519\n",
       "2        PayPal            refund_return    14.0    0.002326\n",
       "3        PayPal            account_other     8.0    0.001329\n",
       "4        PayPal                 mass_pay   986.0    0.163815"
      ]
     },
     "execution_count": 12,
     "metadata": {},
     "output_type": "execute_result"
    }
   ],
   "source": [
    "result_df.head()"
   ]
  },
  {
   "cell_type": "code",
   "execution_count": 13,
   "metadata": {
    "collapsed": true
   },
   "outputs": [],
   "source": [
    "result_df['Percentage'] = result_df['Percentage'].apply(lambda x: x*100)"
   ]
  },
  {
   "cell_type": "code",
   "execution_count": 30,
   "metadata": {
    "collapsed": false
   },
   "outputs": [],
   "source": [
    "# result_df.sort_values(by = 'Percentage', ascending= False)"
   ]
  },
  {
   "cell_type": "code",
   "execution_count": 15,
   "metadata": {
    "collapsed": false
   },
   "outputs": [],
   "source": [
    "small_list = []\n",
    "long_list =[]\n",
    "\n",
    "for index, row in result_df.iterrows():\n",
    "    if row['Percentage'] < 0.1:\n",
    "        small_list.append(row)\n",
    "    else:\n",
    "        long_list.append(row)\n",
    "        \n",
    "\n",
    "small_list_df = pd.DataFrame.from_records(small_list)\n",
    "long_list_df = pd.DataFrame.from_records(long_list)"
   ]
  },
  {
   "cell_type": "code",
   "execution_count": 31,
   "metadata": {
    "collapsed": false
   },
   "outputs": [
    {
     "data": {
      "text/html": [
       "<div>\n",
       "<table border=\"1\" class=\"dataframe\">\n",
       "  <thead>\n",
       "    <tr style=\"text-align: right;\">\n",
       "      <th></th>\n",
       "      <th>PaymentMethod</th>\n",
       "      <th>Reason</th>\n",
       "      <th>Count</th>\n",
       "      <th>Percentage</th>\n",
       "    </tr>\n",
       "  </thead>\n",
       "  <tbody>\n",
       "    <tr>\n",
       "      <th>0</th>\n",
       "      <td>PayPal</td>\n",
       "      <td>paypal_rejected</td>\n",
       "      <td>1231.0</td>\n",
       "      <td>20.451902</td>\n",
       "    </tr>\n",
       "    <tr>\n",
       "      <th>1</th>\n",
       "      <td>PayPal</td>\n",
       "      <td>refund_return</td>\n",
       "      <td>14.0</td>\n",
       "      <td>0.232597</td>\n",
       "    </tr>\n",
       "    <tr>\n",
       "      <th>2</th>\n",
       "      <td>PayPal</td>\n",
       "      <td>account_other</td>\n",
       "      <td>8.0</td>\n",
       "      <td>0.132912</td>\n",
       "    </tr>\n",
       "    <tr>\n",
       "      <th>3</th>\n",
       "      <td>PayPal</td>\n",
       "      <td>mass_pay</td>\n",
       "      <td>986.0</td>\n",
       "      <td>16.381459</td>\n",
       "    </tr>\n",
       "    <tr>\n",
       "      <th>4</th>\n",
       "      <td>PayPal</td>\n",
       "      <td>not_collected</td>\n",
       "      <td>95.0</td>\n",
       "      <td>1.578335</td>\n",
       "    </tr>\n",
       "  </tbody>\n",
       "</table>\n",
       "</div>"
      ],
      "text/plain": [
       "  PaymentMethod           Reason   Count  Percentage\n",
       "0        PayPal  paypal_rejected  1231.0   20.451902\n",
       "1        PayPal    refund_return    14.0    0.232597\n",
       "2        PayPal    account_other     8.0    0.132912\n",
       "3        PayPal         mass_pay   986.0   16.381459\n",
       "4        PayPal    not_collected    95.0    1.578335"
      ]
     },
     "execution_count": 31,
     "metadata": {},
     "output_type": "execute_result"
    }
   ],
   "source": [
    "long_list_df.head()"
   ]
  },
  {
   "cell_type": "code",
   "execution_count": 17,
   "metadata": {
    "collapsed": false
   },
   "outputs": [
    {
     "data": {
      "text/plain": [
       "[['bank account number is invalid or incorrect.  please make sure only the account number itself is entered',\n",
       "  \"please make sure only you account number is filled in the 'account number' field\",\n",
       "  \"payee 'name on account' and 'account number' do not match remote bank records. \",\n",
       "  'account number provided is invalid or incorrect',\n",
       "  'cpf is invalid.  account number is invalid',\n",
       "  'bank account number is invalid or incorrect',\n",
       "  'payee name and account number do not match remote bank records',\n",
       "  'payee `name on account number` do not match remote bank records',\n",
       "  'bank account number supplied is invalid',\n",
       "  'bank account number provided is invalid. ',\n",
       "  \"payee `name on account` and 'account number' does not match remote bank records\",\n",
       "  'account number is invalid or incorrect',\n",
       "  'bank account number provided is invalid or incorrect',\n",
       "  'account number provided is too long. please make sure only the account number itself is entered to that field.',\n",
       "  'incorrect account number',\n",
       "  \"please make sure only your bank account number is entered in the 'account number' field.\",\n",
       "  'incorrect account details - account number must be numeric only (-)',\n",
       "  'bank account number provided is invalid',\n",
       "  \"please make sure all mandatory fields are filled up correctly, including 'account number'\",\n",
       "  \"payee 'name on account number' do not match remote bank records\"],\n",
       " 264]"
      ]
     },
     "execution_count": 17,
     "metadata": {},
     "output_type": "execute_result"
    }
   ],
   "source": [
    "eCheck['account_number']"
   ]
  },
  {
   "cell_type": "code",
   "execution_count": 42,
   "metadata": {
    "collapsed": false
   },
   "outputs": [],
   "source": [
    "pm_count_sum = {}\n",
    "reason_count_sum ={}\n",
    "for index, row in result_df.iterrows():\n",
    "    pm = row['PaymentMethod']\n",
    "    reason = row['Reason']\n",
    "    count = row['Count']\n",
    "    perc = row['Percentage']\n",
    "    if pm in pm_count_sum:\n",
    "        pm_count_sum[pm] = pm_count_sum[pm] + count\n",
    "    else:\n",
    "        pm_count_sum[pm] = count\n",
    "        \n",
    "for index, row in result_df.iterrows():\n",
    "    pm = row['PaymentMethod']\n",
    "    reason = row['Reason']\n",
    "    count = row['Count']\n",
    "    perc = row['Percentage']\n",
    "    if reason in reason_count_sum:\n",
    "        reason_count_sum[reason] = reason_count_sum[reason] + count\n",
    "    else:\n",
    "        reason_count_sum[reason] = count"
   ]
  },
  {
   "cell_type": "code",
   "execution_count": 54,
   "metadata": {
    "collapsed": false
   },
   "outputs": [],
   "source": [
    "pm_count_sum_df = pd.DataFrame(list(pm_count_sum.items()), columns=['PaymentMethod', 'Count'])\n",
    "reason_count_sum_df = pd.DataFrame(list(reason_count_sum.items()), columns=['Reason', 'Count'])"
   ]
  },
  {
   "cell_type": "code",
   "execution_count": 55,
   "metadata": {
    "collapsed": false
   },
   "outputs": [
    {
     "data": {
      "text/html": [
       "<div>\n",
       "<table border=\"1\" class=\"dataframe\">\n",
       "  <thead>\n",
       "    <tr style=\"text-align: right;\">\n",
       "      <th></th>\n",
       "      <th>PaymentMethod</th>\n",
       "      <th>Count</th>\n",
       "    </tr>\n",
       "  </thead>\n",
       "  <tbody>\n",
       "    <tr>\n",
       "      <th>0</th>\n",
       "      <td>Payoneer</td>\n",
       "      <td>121.0</td>\n",
       "    </tr>\n",
       "    <tr>\n",
       "      <th>1</th>\n",
       "      <td>Check</td>\n",
       "      <td>173.0</td>\n",
       "    </tr>\n",
       "    <tr>\n",
       "      <th>2</th>\n",
       "      <td>PayPal</td>\n",
       "      <td>2339.0</td>\n",
       "    </tr>\n",
       "    <tr>\n",
       "      <th>3</th>\n",
       "      <td>eCheck</td>\n",
       "      <td>930.0</td>\n",
       "    </tr>\n",
       "    <tr>\n",
       "      <th>4</th>\n",
       "      <td>WireTransfer</td>\n",
       "      <td>1003.0</td>\n",
       "    </tr>\n",
       "    <tr>\n",
       "      <th>5</th>\n",
       "      <td>ACH</td>\n",
       "      <td>1453.0</td>\n",
       "    </tr>\n",
       "  </tbody>\n",
       "</table>\n",
       "</div>"
      ],
      "text/plain": [
       "  PaymentMethod   Count\n",
       "0      Payoneer   121.0\n",
       "1         Check   173.0\n",
       "2        PayPal  2339.0\n",
       "3        eCheck   930.0\n",
       "4  WireTransfer  1003.0\n",
       "5           ACH  1453.0"
      ]
     },
     "execution_count": 55,
     "metadata": {},
     "output_type": "execute_result"
    }
   ],
   "source": [
    "pm_count_sum_df"
   ]
  },
  {
   "cell_type": "code",
   "execution_count": 39,
   "metadata": {
    "collapsed": false
   },
   "outputs": [],
   "source": [
    "import plotly.plotly as py              # for sending things to plotly\n",
    "import plotly.tools as tls              # for mpl, config, etc.\n",
    "from plotly.graph_objs import *         # __all__ is safely defined\n",
    "import cufflinks as cf\n",
    "\n",
    "py.sign_in('cheyeonhyun', '7xcnf381pv')"
   ]
  },
  {
   "cell_type": "code",
   "execution_count": 40,
   "metadata": {
    "collapsed": true
   },
   "outputs": [],
   "source": [
    "cf.set_config_file(world_readable=True,offline=False)"
   ]
  },
  {
   "cell_type": "code",
   "execution_count": 56,
   "metadata": {
    "collapsed": false
   },
   "outputs": [
    {
     "data": {
      "text/html": [
       "<iframe id=\"igraph\" scrolling=\"no\" style=\"border:none;\" seamless=\"seamless\" src=\"https://plot.ly/~cheyeonhyun/24.embed\" height=\"525px\" width=\"100%\"></iframe>"
      ],
      "text/plain": [
       "<plotly.tools.PlotlyDisplay object>"
      ]
     },
     "execution_count": 56,
     "metadata": {},
     "output_type": "execute_result"
    }
   ],
   "source": [
    "pm_count_sum_df.iplot(kind = 'pie', labels = 'PaymentMethod', values = 'Count')"
   ]
  },
  {
   "cell_type": "code",
   "execution_count": 57,
   "metadata": {
    "collapsed": false
   },
   "outputs": [
    {
     "data": {
      "text/html": [
       "<iframe id=\"igraph\" scrolling=\"no\" style=\"border:none;\" seamless=\"seamless\" src=\"https://plot.ly/~cheyeonhyun/26.embed\" height=\"525px\" width=\"100%\"></iframe>"
      ],
      "text/plain": [
       "<plotly.tools.PlotlyDisplay object>"
      ]
     },
     "execution_count": 57,
     "metadata": {},
     "output_type": "execute_result"
    }
   ],
   "source": [
    "reason_count_sum_df.iplot(kind = 'pie', labels = 'Reason', values = 'Count')"
   ]
  },
  {
   "cell_type": "code",
   "execution_count": 23,
   "metadata": {
    "collapsed": false
   },
   "outputs": [
    {
     "ename": "AttributeError",
     "evalue": "'DataFrame' object has no attribute 'iplot'",
     "output_type": "error",
     "traceback": [
      "\u001b[1;31m---------------------------------------------------------------------------\u001b[0m",
      "\u001b[1;31mAttributeError\u001b[0m                            Traceback (most recent call last)",
      "\u001b[1;32m<ipython-input-23-d6498f431fdd>\u001b[0m in \u001b[0;36m<module>\u001b[1;34m()\u001b[0m\n\u001b[1;32m----> 1\u001b[1;33m \u001b[0mresult_df\u001b[0m\u001b[1;33m.\u001b[0m\u001b[0miplot\u001b[0m\u001b[1;33m(\u001b[0m\u001b[0mkind\u001b[0m\u001b[1;33m=\u001b[0m\u001b[1;34m'pie'\u001b[0m\u001b[1;33m,\u001b[0m\u001b[0mlabels\u001b[0m\u001b[1;33m=\u001b[0m\u001b[1;34m'PaymentMethod'\u001b[0m\u001b[1;33m,\u001b[0m\u001b[0mvalues\u001b[0m\u001b[1;33m=\u001b[0m\u001b[1;34m'Count'\u001b[0m\u001b[1;33m)\u001b[0m\u001b[1;33m\u001b[0m\u001b[0m\n\u001b[0m",
      "\u001b[1;32mC:\\Users\\che\\AppData\\Local\\Continuum\\Anaconda3\\lib\\site-packages\\pandas\\core\\generic.py\u001b[0m in \u001b[0;36m__getattr__\u001b[1;34m(self, name)\u001b[0m\n\u001b[0;32m   2670\u001b[0m             \u001b[1;32mif\u001b[0m \u001b[0mname\u001b[0m \u001b[1;32min\u001b[0m \u001b[0mself\u001b[0m\u001b[1;33m.\u001b[0m\u001b[0m_info_axis\u001b[0m\u001b[1;33m:\u001b[0m\u001b[1;33m\u001b[0m\u001b[0m\n\u001b[0;32m   2671\u001b[0m                 \u001b[1;32mreturn\u001b[0m \u001b[0mself\u001b[0m\u001b[1;33m[\u001b[0m\u001b[0mname\u001b[0m\u001b[1;33m]\u001b[0m\u001b[1;33m\u001b[0m\u001b[0m\n\u001b[1;32m-> 2672\u001b[1;33m             \u001b[1;32mreturn\u001b[0m \u001b[0mobject\u001b[0m\u001b[1;33m.\u001b[0m\u001b[0m__getattribute__\u001b[0m\u001b[1;33m(\u001b[0m\u001b[0mself\u001b[0m\u001b[1;33m,\u001b[0m \u001b[0mname\u001b[0m\u001b[1;33m)\u001b[0m\u001b[1;33m\u001b[0m\u001b[0m\n\u001b[0m\u001b[0;32m   2673\u001b[0m \u001b[1;33m\u001b[0m\u001b[0m\n\u001b[0;32m   2674\u001b[0m     \u001b[1;32mdef\u001b[0m \u001b[0m__setattr__\u001b[0m\u001b[1;33m(\u001b[0m\u001b[0mself\u001b[0m\u001b[1;33m,\u001b[0m \u001b[0mname\u001b[0m\u001b[1;33m,\u001b[0m \u001b[0mvalue\u001b[0m\u001b[1;33m)\u001b[0m\u001b[1;33m:\u001b[0m\u001b[1;33m\u001b[0m\u001b[0m\n",
      "\u001b[1;31mAttributeError\u001b[0m: 'DataFrame' object has no attribute 'iplot'"
     ]
    }
   ],
   "source": [
    "# result_df.iplot(kind='pie',labels='PaymentMethod',values='Count')"
   ]
  },
  {
   "cell_type": "code",
   "execution_count": 29,
   "metadata": {
    "collapsed": false
   },
   "outputs": [],
   "source": [
    "result_df.sort_values(by = 'Percentage', ascending= False).to_csv('task2_result2_2016.csv')"
   ]
  }
 ],
 "metadata": {
  "anaconda-cloud": {},
  "kernelspec": {
   "display_name": "Python [Root]",
   "language": "python",
   "name": "Python [Root]"
  },
  "language_info": {
   "codemirror_mode": {
    "name": "ipython",
    "version": 3
   },
   "file_extension": ".py",
   "mimetype": "text/x-python",
   "name": "python",
   "nbconvert_exporter": "python",
   "pygments_lexer": "ipython3",
   "version": "3.5.2"
  }
 },
 "nbformat": 4,
 "nbformat_minor": 0
}

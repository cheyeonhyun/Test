{
 "cells": [
  {
   "cell_type": "code",
   "execution_count": 2,
   "metadata": {
    "collapsed": true
   },
   "outputs": [],
   "source": [
    "%matplotlib inline\n",
    "import numpy as np\n",
    "import pandas as pd\n",
    "import matplotlib\n",
    "import matplotlib.pyplot as plt\n",
    "\n",
    "df = pd.read_csv('task2_by_month.csv', low_memory=False)\n",
    "c_df = pd.read_csv('task2_country.csv', low_memory=False)"
   ]
  },
  {
   "cell_type": "code",
   "execution_count": 3,
   "metadata": {
    "collapsed": false
   },
   "outputs": [
    {
     "data": {
      "text/html": [
       "<div>\n",
       "<table border=\"1\" class=\"dataframe\">\n",
       "  <thead>\n",
       "    <tr style=\"text-align: right;\">\n",
       "      <th></th>\n",
       "      <th>s_month</th>\n",
       "      <th>s_year</th>\n",
       "      <th>Status</th>\n",
       "      <th>cnt</th>\n",
       "      <th>sum_cnt</th>\n",
       "      <th>percentage</th>\n",
       "    </tr>\n",
       "  </thead>\n",
       "  <tbody>\n",
       "    <tr>\n",
       "      <th>0</th>\n",
       "      <td>5</td>\n",
       "      <td>2016</td>\n",
       "      <td>2</td>\n",
       "      <td>651</td>\n",
       "      <td>63090</td>\n",
       "      <td>1.031859</td>\n",
       "    </tr>\n",
       "    <tr>\n",
       "      <th>1</th>\n",
       "      <td>7</td>\n",
       "      <td>2016</td>\n",
       "      <td>2</td>\n",
       "      <td>563</td>\n",
       "      <td>65073</td>\n",
       "      <td>0.865182</td>\n",
       "    </tr>\n",
       "    <tr>\n",
       "      <th>2</th>\n",
       "      <td>4</td>\n",
       "      <td>2016</td>\n",
       "      <td>2</td>\n",
       "      <td>769</td>\n",
       "      <td>53100</td>\n",
       "      <td>1.448211</td>\n",
       "    </tr>\n",
       "    <tr>\n",
       "      <th>3</th>\n",
       "      <td>2</td>\n",
       "      <td>2016</td>\n",
       "      <td>2</td>\n",
       "      <td>834</td>\n",
       "      <td>39227</td>\n",
       "      <td>2.126087</td>\n",
       "    </tr>\n",
       "    <tr>\n",
       "      <th>4</th>\n",
       "      <td>6</td>\n",
       "      <td>2016</td>\n",
       "      <td>2</td>\n",
       "      <td>784</td>\n",
       "      <td>60043</td>\n",
       "      <td>1.305731</td>\n",
       "    </tr>\n",
       "  </tbody>\n",
       "</table>\n",
       "</div>"
      ],
      "text/plain": [
       "   s_month  s_year  Status  cnt  sum_cnt  percentage\n",
       "0        5    2016       2  651    63090    1.031859\n",
       "1        7    2016       2  563    65073    0.865182\n",
       "2        4    2016       2  769    53100    1.448211\n",
       "3        2    2016       2  834    39227    2.126087\n",
       "4        6    2016       2  784    60043    1.305731"
      ]
     },
     "execution_count": 3,
     "metadata": {},
     "output_type": "execute_result"
    }
   ],
   "source": [
    "df.head()"
   ]
  },
  {
   "cell_type": "code",
   "execution_count": 4,
   "metadata": {
    "collapsed": false
   },
   "outputs": [
    {
     "data": {
      "text/plain": [
       "(120, 8)"
      ]
     },
     "execution_count": 4,
     "metadata": {},
     "output_type": "execute_result"
    }
   ],
   "source": [
    "per_sorted = c_df.sort_values(by= 'percentage', ascending = False)\n",
    "sixteen_per_sorted = c_df.sort_values(by= 'sixteen_percentage', ascending = False)\n",
    "per_sorted.shape"
   ]
  },
  {
   "cell_type": "code",
   "execution_count": 5,
   "metadata": {
    "collapsed": false
   },
   "outputs": [
    {
     "data": {
      "text/plain": [
       "39.930000000000007"
      ]
     },
     "execution_count": 5,
     "metadata": {},
     "output_type": "execute_result"
    }
   ],
   "source": [
    "per_sorted['general_cnt'].describe(percentiles=[.05, .07, .25, .75, .95])[5]"
   ]
  },
  {
   "cell_type": "code",
   "execution_count": 6,
   "metadata": {
    "collapsed": false
   },
   "outputs": [],
   "source": [
    "new_per_sorted = per_sorted[per_sorted['general_cnt']>per_sorted['general_cnt'].describe(percentiles=[.05, .07, .25, .75, .95])[5]]"
   ]
  },
  {
   "cell_type": "code",
   "execution_count": 7,
   "metadata": {
    "collapsed": true
   },
   "outputs": [],
   "source": [
    "import plotly.plotly as py              # for sending things to plotly\n",
    "import plotly.tools as tls              # for mpl, config, etc.\n",
    "import plotly.graph_objs as go         # __all__ is safely defined\n",
    "import cufflinks as cf\n",
    "\n",
    "py.sign_in('cheyeonhyun', '7xcnf381pv')"
   ]
  },
  {
   "cell_type": "code",
   "execution_count": 8,
   "metadata": {
    "collapsed": false
   },
   "outputs": [],
   "source": [
    "from datetime import date\n",
    "\n",
    "date_col_list = []\n",
    "for index, row in df.iterrows():\n",
    "    month = int(row['s_month'])\n",
    "    year = int(row['s_year'])\n",
    "    if month in [1,3,5,7,8, 10, 12]:\n",
    "        day = 31\n",
    "    elif month == 2:\n",
    "        day = 28\n",
    "    else:\n",
    "        day = 30\n",
    "    new_date = date(year, month, day)\n",
    "    date_col_list.append(new_date)"
   ]
  },
  {
   "cell_type": "code",
   "execution_count": null,
   "metadata": {
    "collapsed": false
   },
   "outputs": [],
   "source": [
    "\n",
    "\n"
   ]
  },
  {
   "cell_type": "code",
   "execution_count": 9,
   "metadata": {
    "collapsed": false
   },
   "outputs": [],
   "source": [
    "\n",
    "import calendar\n",
    "\n",
    "twelve = {}\n",
    "thirteen = {}\n",
    "fourteen = {}\n",
    "fifteen = {}\n",
    "sixteen = {}\n",
    "\n",
    "dictionary = {}\n",
    "#stopped here\n",
    "for num in range(1,13):\n",
    "    m_name = calendar.month_name[num]\n",
    "    dictionary[m_name] =[]\n",
    "    \n",
    "for index, row in df.iterrows():\n",
    "    month = int(row['s_month'])\n",
    "    year = int(row['s_year'])\n",
    "    perc = row['percentage']\n",
    "    month_name = calendar.month_name[month]\n",
    "    dictionary[month_name].append(perc)\n",
    "    m_name = calendar.month_name[month]\n",
    "    if year == 2012:\n",
    "#         twelve[m_name] = perc\n",
    "        twelve[month] = perc\n",
    "    if year == 2013:\n",
    "#         thirteen[m_name] = perc\n",
    "        thirteen[month] = perc\n",
    "    if year == 2014:\n",
    "#         fourteen[m_name] = perc\n",
    "        fourteen[month] = perc\n",
    "    if year == 2015:\n",
    "#         fifteen[m_name] = perc\n",
    "        fifteen[month] = perc\n",
    "    if year == 2016:\n",
    "#         sixteen[m_name] = perc\n",
    "        sixteen[month] = perc"
   ]
  },
  {
   "cell_type": "code",
   "execution_count": null,
   "metadata": {
    "collapsed": false
   },
   "outputs": [],
   "source": []
  },
  {
   "cell_type": "code",
   "execution_count": 10,
   "metadata": {
    "collapsed": false
   },
   "outputs": [],
   "source": [
    "year_list = [twelve, thirteen, fourteen, fifteen, sixteen]\n",
    "for year in year_list:\n",
    "    for i in range(1,13):\n",
    "        if i not in year.keys():\n",
    "            year[i]= np.nan"
   ]
  },
  {
   "cell_type": "code",
   "execution_count": 11,
   "metadata": {
    "collapsed": false
   },
   "outputs": [],
   "source": [
    "twelve.items()\n",
    "year_list = [twelve, thirteen, fourteen, fifteen, sixteen]"
   ]
  },
  {
   "cell_type": "code",
   "execution_count": 12,
   "metadata": {
    "collapsed": false
   },
   "outputs": [],
   "source": [
    "year_sum = {}\n",
    "for year in year_list:\n",
    "    for i in range(1,13):\n",
    "        if i not in year_sum.keys():\n",
    "            year_sum[i] = []\n",
    "            year_sum[i].append(year[i])\n",
    "        else:\n",
    "            year_sum[i].append(year[i])"
   ]
  },
  {
   "cell_type": "code",
   "execution_count": 13,
   "metadata": {
    "collapsed": false
   },
   "outputs": [],
   "source": [
    "year_sum_df = pd.DataFrame.from_dict(year_sum)\n",
    "year_sum_df.columns =[calendar.month_name[month] for month in range(1,13)]"
   ]
  },
  {
   "cell_type": "code",
   "execution_count": 14,
   "metadata": {
    "collapsed": false
   },
   "outputs": [
    {
     "data": {
      "text/html": [
       "<div>\n",
       "<table border=\"1\" class=\"dataframe\">\n",
       "  <thead>\n",
       "    <tr style=\"text-align: right;\">\n",
       "      <th></th>\n",
       "      <th>January</th>\n",
       "      <th>February</th>\n",
       "      <th>March</th>\n",
       "      <th>April</th>\n",
       "      <th>May</th>\n",
       "      <th>June</th>\n",
       "      <th>July</th>\n",
       "      <th>August</th>\n",
       "      <th>September</th>\n",
       "      <th>October</th>\n",
       "      <th>November</th>\n",
       "      <th>December</th>\n",
       "    </tr>\n",
       "  </thead>\n",
       "  <tbody>\n",
       "    <tr>\n",
       "      <th>0</th>\n",
       "      <td>NaN</td>\n",
       "      <td>0.561798</td>\n",
       "      <td>2.544743</td>\n",
       "      <td>2.399435</td>\n",
       "      <td>1.869159</td>\n",
       "      <td>3.597122</td>\n",
       "      <td>2.564103</td>\n",
       "      <td>0.966303</td>\n",
       "      <td>0.888012</td>\n",
       "      <td>2.777778</td>\n",
       "      <td>1.047619</td>\n",
       "      <td>1.375405</td>\n",
       "    </tr>\n",
       "    <tr>\n",
       "      <th>1</th>\n",
       "      <td>6.081229</td>\n",
       "      <td>1.691156</td>\n",
       "      <td>1.102765</td>\n",
       "      <td>1.507538</td>\n",
       "      <td>1.543035</td>\n",
       "      <td>1.429883</td>\n",
       "      <td>7.104545</td>\n",
       "      <td>1.295386</td>\n",
       "      <td>1.359180</td>\n",
       "      <td>1.973265</td>\n",
       "      <td>1.497214</td>\n",
       "      <td>2.394810</td>\n",
       "    </tr>\n",
       "    <tr>\n",
       "      <th>2</th>\n",
       "      <td>1.243964</td>\n",
       "      <td>1.276596</td>\n",
       "      <td>1.198645</td>\n",
       "      <td>1.271460</td>\n",
       "      <td>1.139201</td>\n",
       "      <td>1.033089</td>\n",
       "      <td>1.148858</td>\n",
       "      <td>1.042317</td>\n",
       "      <td>1.134860</td>\n",
       "      <td>1.427429</td>\n",
       "      <td>1.039939</td>\n",
       "      <td>0.950105</td>\n",
       "    </tr>\n",
       "    <tr>\n",
       "      <th>3</th>\n",
       "      <td>1.096778</td>\n",
       "      <td>1.342607</td>\n",
       "      <td>1.036866</td>\n",
       "      <td>1.205459</td>\n",
       "      <td>1.446786</td>\n",
       "      <td>1.200036</td>\n",
       "      <td>1.473254</td>\n",
       "      <td>1.806649</td>\n",
       "      <td>2.152255</td>\n",
       "      <td>1.585639</td>\n",
       "      <td>1.458050</td>\n",
       "      <td>1.560507</td>\n",
       "    </tr>\n",
       "    <tr>\n",
       "      <th>4</th>\n",
       "      <td>1.526538</td>\n",
       "      <td>2.126087</td>\n",
       "      <td>1.400671</td>\n",
       "      <td>1.448211</td>\n",
       "      <td>1.031859</td>\n",
       "      <td>1.305731</td>\n",
       "      <td>0.865182</td>\n",
       "      <td>0.483328</td>\n",
       "      <td>NaN</td>\n",
       "      <td>NaN</td>\n",
       "      <td>NaN</td>\n",
       "      <td>NaN</td>\n",
       "    </tr>\n",
       "  </tbody>\n",
       "</table>\n",
       "</div>"
      ],
      "text/plain": [
       "    January  February     March     April       May      June      July  \\\n",
       "0       NaN  0.561798  2.544743  2.399435  1.869159  3.597122  2.564103   \n",
       "1  6.081229  1.691156  1.102765  1.507538  1.543035  1.429883  7.104545   \n",
       "2  1.243964  1.276596  1.198645  1.271460  1.139201  1.033089  1.148858   \n",
       "3  1.096778  1.342607  1.036866  1.205459  1.446786  1.200036  1.473254   \n",
       "4  1.526538  2.126087  1.400671  1.448211  1.031859  1.305731  0.865182   \n",
       "\n",
       "     August  September   October  November  December  \n",
       "0  0.966303   0.888012  2.777778  1.047619  1.375405  \n",
       "1  1.295386   1.359180  1.973265  1.497214  2.394810  \n",
       "2  1.042317   1.134860  1.427429  1.039939  0.950105  \n",
       "3  1.806649   2.152255  1.585639  1.458050  1.560507  \n",
       "4  0.483328        NaN       NaN       NaN       NaN  "
      ]
     },
     "execution_count": 14,
     "metadata": {},
     "output_type": "execute_result"
    }
   ],
   "source": [
    "year_sum_df"
   ]
  },
  {
   "cell_type": "code",
   "execution_count": 48,
   "metadata": {
    "collapsed": false
   },
   "outputs": [
    {
     "data": {
      "text/html": [
       "<iframe id=\"igraph\" scrolling=\"no\" style=\"border:none;\" seamless=\"seamless\" src=\"https://plot.ly/~cheyeonhyun/64.embed\" height=\"525\" width=\"100%\"></iframe>"
      ],
      "text/plain": [
       "<plotly.tools.PlotlyDisplay object>"
      ]
     },
     "execution_count": 48,
     "metadata": {},
     "output_type": "execute_result"
    }
   ],
   "source": [
    "trace0 = go.Bar(x = [calendar.month_name[month] for month in range(1,13)], y = list(year_sum_df.iloc[0]), name = '2012')\n",
    "trace1 = go.Bar(x = [calendar.month_name[month] for month in range(1,13)], y = list(year_sum_df.iloc[1]), name = '2013')\n",
    "trace2 = go.Bar(x = [calendar.month_name[month] for month in range(1,13)], y = list(year_sum_df.iloc[2]), name = '2014')\n",
    "trace3 = go.Bar(x = [calendar.month_name[month] for month in range(1,13)], y = list(year_sum_df.iloc[3]), name = '2015')\n",
    "trace4 = go.Bar(x = [calendar.month_name[month] for month in range(1,13)], y = list(year_sum_df.iloc[4]), name = '2016')\n",
    "\n",
    "data_Y = [trace0, trace1, trace2, trace3, trace4]\n",
    "layout = go.Layout(\n",
    "    xaxis=dict(tickangle=-45),\n",
    "    barmode='group',\n",
    ")\n",
    "figy = go.Figure(data=data_Y, layout=layout)\n",
    "py.iplot(figy, filename='angled-text-bar')\n",
    "# url = py.plot(figy, filename='angled-text-bar')\n",
    "\n",
    "# import plotly.tools as tls\n",
    "\n",
    "# tls.embed(url)"
   ]
  },
  {
   "cell_type": "code",
   "execution_count": 16,
   "metadata": {
    "collapsed": false
   },
   "outputs": [],
   "source": [
    "from scipy import stats\n",
    "\n",
    "median = {}\n",
    "mean = {}\n",
    "std = {}\n",
    "min_d = {}\n",
    "max_d = {}\n",
    "\n",
    "for num in range(1,13):\n",
    "    m_name = calendar.month_name[num]\n",
    "#     print(stats.describe(dictionary[m_name]))\n",
    "    median[m_name] = np.median(dictionary[m_name])\n",
    "    mean[m_name] = np.mean(dictionary[m_name])\n",
    "    std[m_name] = np.std(dictionary[m_name])\n",
    "    min_d[m_name] = np.amin(dictionary[m_name])\n",
    "    max_d[m_name] = np.amax(dictionary[m_name])"
   ]
  },
  {
   "cell_type": "code",
   "execution_count": null,
   "metadata": {
    "collapsed": true
   },
   "outputs": [],
   "source": []
  },
  {
   "cell_type": "code",
   "execution_count": 17,
   "metadata": {
    "collapsed": false
   },
   "outputs": [],
   "source": [
    "for num in range(1,13):\n",
    "    m_name = calendar.month_name[num]\n",
    "    d_list = dictionary[m_name]"
   ]
  },
  {
   "cell_type": "code",
   "execution_count": 18,
   "metadata": {
    "collapsed": false
   },
   "outputs": [],
   "source": [
    "# mean"
   ]
  },
  {
   "cell_type": "code",
   "execution_count": 19,
   "metadata": {
    "collapsed": true
   },
   "outputs": [],
   "source": [
    "med = pd.DataFrame.from_dict(median, orient = 'index')"
   ]
  },
  {
   "cell_type": "code",
   "execution_count": 20,
   "metadata": {
    "collapsed": false
   },
   "outputs": [
    {
     "data": {
      "text/html": [
       "<div>\n",
       "<table border=\"1\" class=\"dataframe\">\n",
       "  <thead>\n",
       "    <tr style=\"text-align: right;\">\n",
       "      <th></th>\n",
       "      <th>median</th>\n",
       "      <th>mean</th>\n",
       "      <th>std</th>\n",
       "      <th>min</th>\n",
       "      <th>max_d</th>\n",
       "    </tr>\n",
       "  </thead>\n",
       "  <tbody>\n",
       "    <tr>\n",
       "      <th>January</th>\n",
       "      <td>1.385251</td>\n",
       "      <td>2.487127</td>\n",
       "      <td>2.080795</td>\n",
       "      <td>1.096778</td>\n",
       "      <td>6.081229</td>\n",
       "    </tr>\n",
       "    <tr>\n",
       "      <th>February</th>\n",
       "      <td>1.342607</td>\n",
       "      <td>1.399649</td>\n",
       "      <td>0.516348</td>\n",
       "      <td>0.561798</td>\n",
       "      <td>2.126087</td>\n",
       "    </tr>\n",
       "    <tr>\n",
       "      <th>March</th>\n",
       "      <td>1.198645</td>\n",
       "      <td>1.456738</td>\n",
       "      <td>0.557691</td>\n",
       "      <td>1.036866</td>\n",
       "      <td>2.544743</td>\n",
       "    </tr>\n",
       "    <tr>\n",
       "      <th>April</th>\n",
       "      <td>1.448211</td>\n",
       "      <td>1.566421</td>\n",
       "      <td>0.430964</td>\n",
       "      <td>1.205459</td>\n",
       "      <td>2.399435</td>\n",
       "    </tr>\n",
       "    <tr>\n",
       "      <th>May</th>\n",
       "      <td>1.446786</td>\n",
       "      <td>1.406008</td>\n",
       "      <td>0.298704</td>\n",
       "      <td>1.031859</td>\n",
       "      <td>1.869159</td>\n",
       "    </tr>\n",
       "    <tr>\n",
       "      <th>June</th>\n",
       "      <td>1.305731</td>\n",
       "      <td>1.713172</td>\n",
       "      <td>0.950931</td>\n",
       "      <td>1.033089</td>\n",
       "      <td>3.597122</td>\n",
       "    </tr>\n",
       "    <tr>\n",
       "      <th>July</th>\n",
       "      <td>1.473254</td>\n",
       "      <td>2.631188</td>\n",
       "      <td>2.309646</td>\n",
       "      <td>0.865182</td>\n",
       "      <td>7.104545</td>\n",
       "    </tr>\n",
       "    <tr>\n",
       "      <th>August</th>\n",
       "      <td>1.042317</td>\n",
       "      <td>1.118797</td>\n",
       "      <td>0.432955</td>\n",
       "      <td>0.483328</td>\n",
       "      <td>1.806649</td>\n",
       "    </tr>\n",
       "    <tr>\n",
       "      <th>September</th>\n",
       "      <td>1.247020</td>\n",
       "      <td>1.383577</td>\n",
       "      <td>0.474053</td>\n",
       "      <td>0.888012</td>\n",
       "      <td>2.152255</td>\n",
       "    </tr>\n",
       "    <tr>\n",
       "      <th>October</th>\n",
       "      <td>1.779452</td>\n",
       "      <td>1.941028</td>\n",
       "      <td>0.522320</td>\n",
       "      <td>1.427429</td>\n",
       "      <td>2.777778</td>\n",
       "    </tr>\n",
       "    <tr>\n",
       "      <th>November</th>\n",
       "      <td>1.252834</td>\n",
       "      <td>1.260706</td>\n",
       "      <td>0.217385</td>\n",
       "      <td>1.039939</td>\n",
       "      <td>1.497214</td>\n",
       "    </tr>\n",
       "    <tr>\n",
       "      <th>December</th>\n",
       "      <td>1.467956</td>\n",
       "      <td>1.570207</td>\n",
       "      <td>0.525009</td>\n",
       "      <td>0.950105</td>\n",
       "      <td>2.394810</td>\n",
       "    </tr>\n",
       "  </tbody>\n",
       "</table>\n",
       "</div>"
      ],
      "text/plain": [
       "             median      mean       std       min     max_d\n",
       "January    1.385251  2.487127  2.080795  1.096778  6.081229\n",
       "February   1.342607  1.399649  0.516348  0.561798  2.126087\n",
       "March      1.198645  1.456738  0.557691  1.036866  2.544743\n",
       "April      1.448211  1.566421  0.430964  1.205459  2.399435\n",
       "May        1.446786  1.406008  0.298704  1.031859  1.869159\n",
       "June       1.305731  1.713172  0.950931  1.033089  3.597122\n",
       "July       1.473254  2.631188  2.309646  0.865182  7.104545\n",
       "August     1.042317  1.118797  0.432955  0.483328  1.806649\n",
       "September  1.247020  1.383577  0.474053  0.888012  2.152255\n",
       "October    1.779452  1.941028  0.522320  1.427429  2.777778\n",
       "November   1.252834  1.260706  0.217385  1.039939  1.497214\n",
       "December   1.467956  1.570207  0.525009  0.950105  2.394810"
      ]
     },
     "execution_count": 20,
     "metadata": {},
     "output_type": "execute_result"
    }
   ],
   "source": [
    "summ_stat_df = pd.DataFrame.transpose(pd.DataFrame([median, mean, std, min_d, max_d]))\n",
    "summ_stat_df.columns = ['median', 'mean', 'std', 'min', 'max_d']\n",
    "summ_stat_df = summ_stat_df.reindex(['January', 'February', 'March', 'April', 'May','June', 'July', 'August', 'September', 'October', 'November', 'December'])\n",
    "summ_stat_df"
   ]
  },
  {
   "cell_type": "code",
   "execution_count": 21,
   "metadata": {
    "collapsed": false
   },
   "outputs": [],
   "source": [
    "data1 = [go.Bar(\n",
    "            x = new_per_sorted['c_name'],\n",
    "            y= new_per_sorted['percentage'])\n",
    "        ]\n",
    "fig = go.Figure(data=data1, layout= go.Layout(title='Percentage of rejection by countries'))"
   ]
  },
  {
   "cell_type": "code",
   "execution_count": 22,
   "metadata": {
    "collapsed": false
   },
   "outputs": [
    {
     "data": {
      "text/html": [
       "<iframe id=\"igraph\" scrolling=\"no\" style=\"border:none;\" seamless=\"seamless\" src=\"https://plot.ly/~cheyeonhyun/56.embed\" height=\"525px\" width=\"100%\"></iframe>"
      ],
      "text/plain": [
       "<plotly.tools.PlotlyDisplay object>"
      ]
     },
     "execution_count": 22,
     "metadata": {},
     "output_type": "execute_result"
    }
   ],
   "source": [
    "py.iplot(fig, filename='basic-bar')"
   ]
  },
  {
   "cell_type": "code",
   "execution_count": 23,
   "metadata": {
    "collapsed": false
   },
   "outputs": [
    {
     "data": {
      "text/html": [
       "<iframe id=\"igraph\" scrolling=\"no\" style=\"border:none;\" seamless=\"seamless\" src=\"https://plot.ly/~cheyeonhyun/56.embed\" height=\"525px\" width=\"100%\"></iframe>"
      ],
      "text/plain": [
       "<plotly.tools.PlotlyDisplay object>"
      ]
     },
     "execution_count": 23,
     "metadata": {},
     "output_type": "execute_result"
    }
   ],
   "source": [
    "data2 = [go.Bar(\n",
    "            x = sixteen_per_sorted['c_name'],\n",
    "            y= sixteen_per_sorted['sixteen_percentage'])\n",
    "        ]\n",
    "fig2 = go.Figure(data=data2, layout= go.Layout(title='Percentage of rejection by countries in 2016'))\n",
    "py.iplot(fig2, filename='basic-bar')"
   ]
  },
  {
   "cell_type": "code",
   "execution_count": 24,
   "metadata": {
    "collapsed": false
   },
   "outputs": [],
   "source": [
    "date_col_df = pd.DataFrame({'date': date_col_list})"
   ]
  },
  {
   "cell_type": "code",
   "execution_count": 25,
   "metadata": {
    "collapsed": false
   },
   "outputs": [],
   "source": [
    "date_merged = pd.concat([df, date_col_df], axis=1)"
   ]
  },
  {
   "cell_type": "code",
   "execution_count": 26,
   "metadata": {
    "collapsed": false
   },
   "outputs": [
    {
     "data": {
      "text/html": [
       "<div>\n",
       "<table border=\"1\" class=\"dataframe\">\n",
       "  <thead>\n",
       "    <tr style=\"text-align: right;\">\n",
       "      <th></th>\n",
       "      <th>s_month</th>\n",
       "      <th>s_year</th>\n",
       "      <th>Status</th>\n",
       "      <th>cnt</th>\n",
       "      <th>sum_cnt</th>\n",
       "      <th>percentage</th>\n",
       "      <th>date</th>\n",
       "    </tr>\n",
       "  </thead>\n",
       "  <tbody>\n",
       "    <tr>\n",
       "      <th>0</th>\n",
       "      <td>5</td>\n",
       "      <td>2016</td>\n",
       "      <td>2</td>\n",
       "      <td>651</td>\n",
       "      <td>63090</td>\n",
       "      <td>1.031859</td>\n",
       "      <td>2016-05-31</td>\n",
       "    </tr>\n",
       "    <tr>\n",
       "      <th>1</th>\n",
       "      <td>7</td>\n",
       "      <td>2016</td>\n",
       "      <td>2</td>\n",
       "      <td>563</td>\n",
       "      <td>65073</td>\n",
       "      <td>0.865182</td>\n",
       "      <td>2016-07-31</td>\n",
       "    </tr>\n",
       "    <tr>\n",
       "      <th>2</th>\n",
       "      <td>4</td>\n",
       "      <td>2016</td>\n",
       "      <td>2</td>\n",
       "      <td>769</td>\n",
       "      <td>53100</td>\n",
       "      <td>1.448211</td>\n",
       "      <td>2016-04-30</td>\n",
       "    </tr>\n",
       "    <tr>\n",
       "      <th>3</th>\n",
       "      <td>2</td>\n",
       "      <td>2016</td>\n",
       "      <td>2</td>\n",
       "      <td>834</td>\n",
       "      <td>39227</td>\n",
       "      <td>2.126087</td>\n",
       "      <td>2016-02-28</td>\n",
       "    </tr>\n",
       "    <tr>\n",
       "      <th>4</th>\n",
       "      <td>6</td>\n",
       "      <td>2016</td>\n",
       "      <td>2</td>\n",
       "      <td>784</td>\n",
       "      <td>60043</td>\n",
       "      <td>1.305731</td>\n",
       "      <td>2016-06-30</td>\n",
       "    </tr>\n",
       "  </tbody>\n",
       "</table>\n",
       "</div>"
      ],
      "text/plain": [
       "   s_month  s_year  Status  cnt  sum_cnt  percentage        date\n",
       "0        5    2016       2  651    63090    1.031859  2016-05-31\n",
       "1        7    2016       2  563    65073    0.865182  2016-07-31\n",
       "2        4    2016       2  769    53100    1.448211  2016-04-30\n",
       "3        2    2016       2  834    39227    2.126087  2016-02-28\n",
       "4        6    2016       2  784    60043    1.305731  2016-06-30"
      ]
     },
     "execution_count": 26,
     "metadata": {},
     "output_type": "execute_result"
    }
   ],
   "source": [
    "date_merged.head()\n",
    "# date_merged.to_csv('test.csv')"
   ]
  },
  {
   "cell_type": "code",
   "execution_count": 27,
   "metadata": {
    "collapsed": false
   },
   "outputs": [],
   "source": [
    "# matplotlib.style.use('ggplot')\n",
    "# # date_merged.plot(x='date', y='percentage').autofmt_xdate()\n",
    "# # fig, ax = plt.subplots(1)\n",
    "# # ax.plot(date_merged.date, date_merged.percentage)\n",
    "# # fig.autofmt_xdate()\n",
    "# # date_merged[['date', 'percentage']].plot.bar()\n",
    "# import matplotlib.dates as mdates\n",
    "\n",
    "# # fmt = mdates.DateFormatter('%Y-%m-%d')\n",
    "# # loc = mdates.WeekdayLocator(byweekday=mdates.MONDAY)\n",
    "# # ax = plt.axes()\n",
    "# # ax.xaxis.set_major_formatter(fmt)\n",
    "# # ax.xaxis.set_major_locator(loc)\n",
    "# plt.bar(date_merged['date'], date_merged['percentage'])\n",
    "# fig = plt.figure(1)\n",
    "# fig.autofmt_xdate()"
   ]
  },
  {
   "cell_type": "code",
   "execution_count": 28,
   "metadata": {
    "collapsed": false
   },
   "outputs": [],
   "source": [
    "data = [go.Bar(\n",
    "            x = date_merged['date'],\n",
    "            y= date_merged['percentage'])]"
   ]
  },
  {
   "cell_type": "code",
   "execution_count": 29,
   "metadata": {
    "collapsed": false
   },
   "outputs": [
    {
     "data": {
      "text/html": [
       "<iframe id=\"igraph\" scrolling=\"no\" style=\"border:none;\" seamless=\"seamless\" src=\"https://plot.ly/~cheyeonhyun/56.embed\" height=\"525px\" width=\"100%\"></iframe>"
      ],
      "text/plain": [
       "<plotly.tools.PlotlyDisplay object>"
      ]
     },
     "execution_count": 29,
     "metadata": {},
     "output_type": "execute_result"
    }
   ],
   "source": [
    "py.iplot(data, filename='basic-bar')"
   ]
  },
  {
   "cell_type": "code",
   "execution_count": 30,
   "metadata": {
    "collapsed": false
   },
   "outputs": [],
   "source": [
    "firstM = pd.read_csv('task2_firstMonth_payer.csv', low_memory=False)\n",
    "allM = pd.read_csv('task2_by_company.csv', low_memory=False)"
   ]
  },
  {
   "cell_type": "code",
   "execution_count": 31,
   "metadata": {
    "collapsed": false
   },
   "outputs": [],
   "source": [
    "from2ndmonth_table = []\n",
    "for index2, row2 in firstM.iterrows():\n",
    "    firstM_payerName = row2['PayerName']\n",
    "    firstMonth = row2['s_month']\n",
    "    firstYear = row2['s_year']\n",
    "    for index, row in allM.iterrows():\n",
    "        company_name = row['PayerName']\n",
    "        m = row['s_month']\n",
    "        y = row['s_year']\n",
    "        if (firstM_payerName == company_name) and firstMonth < m and firstYear <= y :\n",
    "            from2ndmonth_table.append({'s_month': m, 's_year': y, 'PayerId': row['PayerId'], 'PayerName': company_name, 'reject_cnt' : row['reject_cnt'],'sum_cnt': row['sum_cnt']})\n",
    "\n",
    "from2ndMonth_df = pd.DataFrame(from2ndmonth_table)"
   ]
  },
  {
   "cell_type": "code",
   "execution_count": 32,
   "metadata": {
    "collapsed": false
   },
   "outputs": [],
   "source": [
    "r_percentage = []\n",
    "for index, row in from2ndMonth_df.iterrows():\n",
    "    reject_cnt = row['reject_cnt']\n",
    "    sum_cnt = row['sum_cnt']\n",
    "    r_percentage.append(100*(reject_cnt/sum_cnt))\n",
    "\n",
    "r_p_df = pd.DataFrame(r_percentage)\n",
    "r_p_df.columns = ['reject_percentage']\n",
    "result = pd.concat([from2ndMonth_df, pd.DataFrame(r_p_df)], axis=1, join='inner')\n"
   ]
  },
  {
   "cell_type": "code",
   "execution_count": 33,
   "metadata": {
    "collapsed": false
   },
   "outputs": [],
   "source": [
    "new_date_col_list = []\n",
    "for index, row in result.iterrows():\n",
    "    month = int(row['s_month'])\n",
    "    year = int(row['s_year'])\n",
    "    if month in [1,3,5,7,8, 10, 12]:\n",
    "        day = 31\n",
    "    elif month == 2:\n",
    "        day = 28\n",
    "    else:\n",
    "        day = 30\n",
    "    new_date = date(year, month, day)\n",
    "    new_date_col_list.append(new_date)"
   ]
  },
  {
   "cell_type": "code",
   "execution_count": 34,
   "metadata": {
    "collapsed": false
   },
   "outputs": [],
   "source": [
    "new_date_df = pd.DataFrame(new_date_col_list)\n",
    "new_date_df.columns = ['new_date']\n",
    "result2 = pd.concat([result, new_date_df], axis = 1)"
   ]
  },
  {
   "cell_type": "code",
   "execution_count": 35,
   "metadata": {
    "collapsed": false
   },
   "outputs": [],
   "source": [
    "result2 = result2.sort_values(by= ['PayerName','new_date'], ascending = True)"
   ]
  },
  {
   "cell_type": "code",
   "execution_count": 36,
   "metadata": {
    "collapsed": false
   },
   "outputs": [],
   "source": [
    "result2.head()\n",
    "result2.to_csv('result2_company.csv')"
   ]
  },
  {
   "cell_type": "code",
   "execution_count": 37,
   "metadata": {
    "collapsed": false
   },
   "outputs": [],
   "source": [
    "unique_payer_name = result2.PayerName.unique()\n",
    "unique1 = result2.PayerName.unique()[:10]\n",
    "unique2 = result2.PayerName.unique()[10:20]\n",
    "unique3 = result2.PayerName.unique()[20:30]\n",
    "unique4 = result2.PayerName.unique()[30:40]\n",
    "unique5 = result2.PayerName.unique()[40:50]\n",
    "unique6 = result2.PayerName.unique()[50:60]\n",
    "unique7 = result2.PayerName.unique()[60:70]\n",
    "unique8 = result2.PayerName.unique()[70:]\n",
    "first_el_unique = [unique1[0],unique2[0],unique3[0],unique4[0],unique5[0],unique6[0],unique7[0],unique8[0]]"
   ]
  },
  {
   "cell_type": "code",
   "execution_count": 38,
   "metadata": {
    "collapsed": false
   },
   "outputs": [],
   "source": [
    "data_result = [{\n",
    "            'x': result2[result2['PayerName']==PayerName]['new_date'],\n",
    "            'y': result2[result2['PayerName']==PayerName]['reject_percentage'], 'name':PayerName} for PayerName in unique_payer_name]"
   ]
  },
  {
   "cell_type": "code",
   "execution_count": 39,
   "metadata": {
    "collapsed": false
   },
   "outputs": [],
   "source": [
    "data_result1 = [{\n",
    "            'x': result2[result2['PayerName']==PayerName]['new_date'],\n",
    "            'y': result2[result2['PayerName']==PayerName]['reject_percentage'], 'name':PayerName} for PayerName in unique1]\n",
    "\n",
    "data_result2 = [{\n",
    "            'x': result2[result2['PayerName']==PayerName]['new_date'],\n",
    "            'y': result2[result2['PayerName']==PayerName]['reject_percentage'], 'name':PayerName} for PayerName in unique2]\n",
    "data_result3 = [{\n",
    "            'x': result2[result2['PayerName']==PayerName]['new_date'],\n",
    "            'y': result2[result2['PayerName']==PayerName]['reject_percentage'], 'name':PayerName} for PayerName in unique3]\n",
    "\n",
    "data_result4 = [{\n",
    "            'x': result2[result2['PayerName']==PayerName]['new_date'],\n",
    "            'y': result2[result2['PayerName']==PayerName]['reject_percentage'], 'name':PayerName} for PayerName in unique4]"
   ]
  },
  {
   "cell_type": "code",
   "execution_count": 40,
   "metadata": {
    "collapsed": false
   },
   "outputs": [],
   "source": [
    "from plotly.graph_objs import *\n",
    "\n",
    "\n",
    "layout = Layout(\n",
    "    title='Rejection rate by Payer', margin=dict(b=150),\n",
    "    updatemenus=list([\n",
    "        dict(\n",
    "            x=-0.05,\n",
    "            y=1,\n",
    "            yanchor='top',\n",
    "            buttons= list([dict(\n",
    "                    args=['visible', [True for i in range(len(unique_payer_name))]],\n",
    "                    label='All',\n",
    "                    method='restyle'\n",
    "                )]) +\n",
    "                [dict(\n",
    "                    args=['visible', [True if x == PayerName else False for x in unique_payer_name]],\n",
    "                    label=PayerName, \n",
    "                    method='restyle'\n",
    "                ) for PayerName in unique_payer_name]\n",
    "        )\n",
    "    ]),\n",
    ")\n",
    "\n",
    "\n",
    "fig = Figure(data = data_result, layout=layout)"
   ]
  },
  {
   "cell_type": "code",
   "execution_count": 41,
   "metadata": {
    "collapsed": false
   },
   "outputs": [
    {
     "data": {
      "text/html": [
       "<iframe id=\"igraph\" scrolling=\"no\" style=\"border:none;\" seamless=\"seamless\" src=\"https://plot.ly/~cheyeonhyun/62.embed\" height=\"525px\" width=\"100%\"></iframe>"
      ],
      "text/plain": [
       "<plotly.tools.PlotlyDisplay object>"
      ]
     },
     "execution_count": 41,
     "metadata": {},
     "output_type": "execute_result"
    }
   ],
   "source": [
    "py.iplot(fig, filename='scatterPlot2')"
   ]
  },
  {
   "cell_type": "code",
   "execution_count": 42,
   "metadata": {
    "collapsed": false
   },
   "outputs": [
    {
     "data": {
      "text/html": [
       "<iframe id=\"igraph\" scrolling=\"no\" style=\"border:none;\" seamless=\"seamless\" src=\"https://plot.ly/~cheyeonhyun/66.embed\" height=\"525px\" width=\"100%\"></iframe>"
      ],
      "text/plain": [
       "<plotly.tools.PlotlyDisplay object>"
      ]
     },
     "execution_count": 42,
     "metadata": {},
     "output_type": "execute_result"
    }
   ],
   "source": [
    "from plotly.graph_objs import *\n",
    "\n",
    "\n",
    "layout1 = Layout(\n",
    "    title='Rejection rate by Payer', margin=dict(b=150),\n",
    "    updatemenus=list([\n",
    "        dict(\n",
    "            x=-0.05,\n",
    "            y=1,\n",
    "            yanchor='top',\n",
    "            buttons= list([dict(\n",
    "                    args=['visible', [True for i in range(len(unique1))]],\n",
    "                    label='All',\n",
    "                    method='restyle'\n",
    "                )]) +\n",
    "                [dict(\n",
    "                    args=['visible', [True if x == PayerName else False for x in unique1]],\n",
    "                    label=PayerName, \n",
    "                    method='restyle'\n",
    "                ) for PayerName in unique1]\n",
    "        )\n",
    "    ]),\n",
    ")\n",
    "\n",
    "\n",
    "fig1 = Figure(data = data_result1, layout=layout1)\n",
    "\n",
    "py.iplot(fig1, filename='scatterPlot2-1')"
   ]
  },
  {
   "cell_type": "code",
   "execution_count": 43,
   "metadata": {
    "collapsed": false
   },
   "outputs": [
    {
     "data": {
      "text/html": [
       "<iframe id=\"igraph\" scrolling=\"no\" style=\"border:none;\" seamless=\"seamless\" src=\"https://plot.ly/~cheyeonhyun/68.embed\" height=\"525px\" width=\"100%\"></iframe>"
      ],
      "text/plain": [
       "<plotly.tools.PlotlyDisplay object>"
      ]
     },
     "execution_count": 43,
     "metadata": {},
     "output_type": "execute_result"
    }
   ],
   "source": [
    "from plotly.graph_objs import *\n",
    "\n",
    "\n",
    "layout2 = Layout(\n",
    "    title='Rejection rate by Payer', margin=dict(b=150),\n",
    "    updatemenus=list([\n",
    "        dict(\n",
    "            x=-0.05,\n",
    "            y=1,\n",
    "            yanchor='top',\n",
    "            buttons= list([dict(\n",
    "                    args=['visible', [True for i in range(len(unique2))]],\n",
    "                    label='All',\n",
    "                    method='restyle'\n",
    "                )]) +\n",
    "                [dict(\n",
    "                    args=['visible', [True if x == PayerName else False for x in unique2]],\n",
    "                    label=PayerName, \n",
    "                    method='restyle'\n",
    "                ) for PayerName in unique2]\n",
    "        )\n",
    "    ]),\n",
    ")\n",
    "\n",
    "\n",
    "fig2 = Figure(data = data_result2, layout=layout2)\n",
    "\n",
    "py.iplot(fig2, filename='scatterPlot2-2')"
   ]
  },
  {
   "cell_type": "code",
   "execution_count": 44,
   "metadata": {
    "collapsed": false
   },
   "outputs": [
    {
     "data": {
      "text/html": [
       "<iframe id=\"igraph\" scrolling=\"no\" style=\"border:none;\" seamless=\"seamless\" src=\"https://plot.ly/~cheyeonhyun/70.embed\" height=\"525px\" width=\"100%\"></iframe>"
      ],
      "text/plain": [
       "<plotly.tools.PlotlyDisplay object>"
      ]
     },
     "execution_count": 44,
     "metadata": {},
     "output_type": "execute_result"
    }
   ],
   "source": [
    "\n",
    "layout3 = Layout(\n",
    "    title='Rejection rate by Payer', margin=dict(b=150),\n",
    "    updatemenus=list([\n",
    "        dict(\n",
    "            x=-0.05,\n",
    "            y=1,\n",
    "            yanchor='top',\n",
    "            buttons= list([dict(\n",
    "                    args=['visible', [True for i in range(len(unique3))]],\n",
    "                    label='All',\n",
    "                    method='restyle'\n",
    "                )]) +\n",
    "                [dict(\n",
    "                    args=['visible', [True if x == PayerName else False for x in unique3]],\n",
    "                    label=PayerName, \n",
    "                    method='restyle'\n",
    "                ) for PayerName in unique3]\n",
    "        )\n",
    "    ]),\n",
    ")\n",
    "\n",
    "\n",
    "fig3 = Figure(data = data_result3, layout=layout3)\n",
    "\n",
    "py.iplot(fig3, filename='scatterPlot2-3')"
   ]
  },
  {
   "cell_type": "code",
   "execution_count": 45,
   "metadata": {
    "collapsed": false
   },
   "outputs": [
    {
     "data": {
      "text/html": [
       "<iframe id=\"igraph\" scrolling=\"no\" style=\"border:none;\" seamless=\"seamless\" src=\"https://plot.ly/~cheyeonhyun/72.embed\" height=\"525px\" width=\"100%\"></iframe>"
      ],
      "text/plain": [
       "<plotly.tools.PlotlyDisplay object>"
      ]
     },
     "execution_count": 45,
     "metadata": {},
     "output_type": "execute_result"
    }
   ],
   "source": [
    "\n",
    "layout4 = Layout(\n",
    "    title='Rejection rate by Payer', margin=dict(b=150),\n",
    "    updatemenus=list([\n",
    "        dict(\n",
    "            x=-0.05,\n",
    "            y=1,\n",
    "            yanchor='top',\n",
    "            buttons= list([dict(\n",
    "                    args=['visible', [True for i in range(len(unique4))]],\n",
    "                    label='All',\n",
    "                    method='restyle'\n",
    "                )]) +\n",
    "                [dict(\n",
    "                    args=['visible', [True if x == PayerName else False for x in unique4]],\n",
    "                    label=PayerName, \n",
    "                    method='restyle'\n",
    "                ) for PayerName in unique4]\n",
    "        )\n",
    "    ]),\n",
    ")\n",
    "\n",
    "\n",
    "fig4 = Figure(data = data_result4, layout=layout4)\n",
    "\n",
    "py.iplot(fig4, filename='scatterPlot2-4')"
   ]
  },
  {
   "cell_type": "code",
   "execution_count": 46,
   "metadata": {
    "collapsed": false
   },
   "outputs": [
    {
     "data": {
      "text/html": [
       "<iframe id=\"igraph\" scrolling=\"no\" style=\"border:none;\" seamless=\"seamless\" src=\"https://plot.ly/~cheyeonhyun/74.embed\" height=\"525px\" width=\"100%\"></iframe>"
      ],
      "text/plain": [
       "<plotly.tools.PlotlyDisplay object>"
      ]
     },
     "execution_count": 46,
     "metadata": {},
     "output_type": "execute_result"
    }
   ],
   "source": [
    "\n",
    "layout_el = Layout(\n",
    "    title='Rejection rate by Payer', margin=dict(b=150),\n",
    "    updatemenus=list([\n",
    "        dict(\n",
    "            x=-0.05,\n",
    "            y=1,\n",
    "            yanchor='top',\n",
    "            buttons= list([dict(\n",
    "                    args=['visible', [True for i in range(len(unique1))]],\n",
    "                    label='All',\n",
    "                    method='restyle'\n",
    "                )]) +\n",
    "                [dict(\n",
    "                    args=['visible', [True if x == PayerName else False for x in unique1]],\n",
    "                    label=PayerName, \n",
    "                    method='restyle'\n",
    "                ) for PayerName in unique1]\n",
    "        )\n",
    "    ]),\n",
    ")\n",
    "\n",
    "\n",
    "fig_el = Figure(data = data_result, layout=layout_el)\n",
    "\n",
    "py.iplot(fig_el, filename='scatterPlot2-el')"
   ]
  },
  {
   "cell_type": "code",
   "execution_count": null,
   "metadata": {
    "collapsed": true
   },
   "outputs": [],
   "source": []
  }
 ],
 "metadata": {
  "anaconda-cloud": {},
  "kernelspec": {
   "display_name": "Python [Root]",
   "language": "python",
   "name": "Python [Root]"
  },
  "language_info": {
   "codemirror_mode": {
    "name": "ipython",
    "version": 3
   },
   "file_extension": ".py",
   "mimetype": "text/x-python",
   "name": "python",
   "nbconvert_exporter": "python",
   "pygments_lexer": "ipython3",
   "version": "3.5.2"
  }
 },
 "nbformat": 4,
 "nbformat_minor": 0
}
